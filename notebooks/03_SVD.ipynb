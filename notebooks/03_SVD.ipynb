{
 "cells": [
  {
   "cell_type": "code",
   "execution_count": null,
   "id": "38c8c13b",
   "metadata": {},
   "outputs": [
    {
     "name": "stdout",
     "output_type": "stream",
     "text": [
      "✅ Modèle SVD entraîné et sauvegardé dans : models\\03_SVD.pkl\n",
      "Prédiction pour user 278720 et item 282315 : 1.00\n"
     ]
    }
   ],
   "source": [
    "\n",
    "import pandas as pd\n",
    "from surprise import Dataset, Reader, SVD\n",
    "from sklearn.model_selection import train_test_split\n",
    "import pickle\n",
    "import os\n",
    "\n",
    "\n",
    "df = pd.read_csv(r'C:\\Users\\ahmed\\reco-ecommerce\\data\\events.csv')\n",
    "\n",
    "weights = {'view': 1, 'add_to_cart': 3, 'purchase': 5}\n",
    "df['score'] = df['event'].map(weights)\n",
    "df = df[df['score'].notna()]\n",
    "\n",
    "train_df, test_df = train_test_split(df, test_size=0.2, random_state=42)\n",
    "\n",
    "reader = Reader(rating_scale=(1, 5))\n",
    "train_data = Dataset.load_from_df(train_df[['visitorid', 'itemid', 'score']], reader)\n",
    "trainset = train_data.build_full_trainset()\n",
    "\n",
    "svd_model = SVD(n_factors=50, reg_all=0.02, lr_all=0.005)\n",
    "svd_model.fit(trainset)\n",
    "\n",
    "model_dir = \"models\"\n",
    "os.makedirs(model_dir, exist_ok=True)\n",
    "model_path = os.path.join(model_dir, \"03_SVD.pkl\")\n",
    "\n",
    "with open(model_path, \"wb\") as f:\n",
    "    pickle.dump(svd_model, f)\n",
    "\n",
    "print(f\"✅ Modèle SVD entraîné et sauvegardé dans : {model_path}\")\n",
    "\n",
    "example_user = train_df['visitorid'].iloc[0]\n",
    "example_item = train_df['itemid'].iloc[0]\n",
    "pred = svd_model.predict(example_user, example_item)\n",
    "print(f\"Prédiction pour user {example_user} et item {example_item} : {pred.est:.2f}\")\n",
    "\n"
   ]
  }
 ],
 "metadata": {
  "kernelspec": {
   "display_name": "env",
   "language": "python",
   "name": "python3"
  },
  "language_info": {
   "codemirror_mode": {
    "name": "ipython",
    "version": 3
   },
   "file_extension": ".py",
   "mimetype": "text/x-python",
   "name": "python",
   "nbconvert_exporter": "python",
   "pygments_lexer": "ipython3",
   "version": "3.11.9"
  }
 },
 "nbformat": 4,
 "nbformat_minor": 5
}
