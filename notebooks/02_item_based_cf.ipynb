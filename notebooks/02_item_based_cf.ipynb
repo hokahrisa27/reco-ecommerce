{
 "cells": [
  {
   "cell_type": "code",
   "execution_count": null,
   "id": "1ccbceee",
   "metadata": {},
   "outputs": [
    {
     "name": "stdout",
     "output_type": "stream",
     "text": [
      "[86962, 336863, 270194, 466862, 466861, 466860, 66, 466827, 466867, 65]\n"
     ]
    }
   ],
   "source": [
    "import pandas as pd\n",
    "from sklearn.metrics.pairwise import cosine_similarity\n",
    "from scipy.sparse import csr_matrix\n",
    "\n",
    "df = pd.read_csv(r'C:\\Users\\ahmed\\reco-ecommerce\\data\\events.csv')\n",
    "\n",
    "weights = {'view':1, 'add_to_cart':3, 'transaction':5}\n",
    "df['score'] = df['event'].map(weights)\n",
    "df = df[df['score'].notna()]\n",
    "\n",
    "user_item_scores = df.groupby(['visitorid', 'itemid'])['score'].sum().reset_index()\n",
    "\n",
    "user_ids = user_item_scores['visitorid'].astype('category')\n",
    "item_ids = user_item_scores['itemid'].astype('category')\n",
    "user_item_scores['user_idx'] = user_ids.cat.codes\n",
    "user_item_scores['item_idx'] = item_ids.cat.codes\n",
    "\n",
    "mat_sparse = csr_matrix(\n",
    "    (user_item_scores['score'], (user_item_scores['item_idx'], user_item_scores['user_idx']))\n",
    ")\n",
    "\n",
    "sim_matrix = cosine_similarity(mat_sparse, dense_output=False)\n",
    "\n",
    "\n",
    "def recommend_similar_items(item_id, k=10):\n",
    "    if item_id not in item_ids.cat.categories:\n",
    "        return []\n",
    "    idx = item_ids.cat.categories.get_loc(item_id)\n",
    "    \n",
    "    sim_row = sim_matrix.getrow(idx).toarray().flatten()\n",
    "\n",
    "    sim_row[idx] = 0\n",
    "    \n",
    "    top_k_idx = sim_row.argsort()[::-1][:k]\n",
    "\n",
    "    return item_ids.cat.categories[top_k_idx].tolist()\n",
    "\n",
    "print(recommend_similar_items(item_ids.cat.categories[0]))\n"
   ]
  }
 ],
 "metadata": {
  "kernelspec": {
   "display_name": "env",
   "language": "python",
   "name": "python3"
  },
  "language_info": {
   "codemirror_mode": {
    "name": "ipython",
    "version": 3
   },
   "file_extension": ".py",
   "mimetype": "text/x-python",
   "name": "python",
   "nbconvert_exporter": "python",
   "pygments_lexer": "ipython3",
   "version": "3.11.9"
  }
 },
 "nbformat": 4,
 "nbformat_minor": 5
}
